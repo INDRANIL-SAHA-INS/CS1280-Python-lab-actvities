{
  "metadata": {
    "kernelspec": {
      "name": "python",
      "display_name": "Python (Pyodide)",
      "language": "python"
    },
    "language_info": {
      "codemirror_mode": {
        "name": "python",
        "version": 3
      },
      "file_extension": ".py",
      "mimetype": "text/x-python",
      "name": "python",
      "nbconvert_exporter": "python",
      "pygments_lexer": "ipython3",
      "version": "3.8"
    }
  },
  "nbformat_minor": 5,
  "nbformat": 4,
  "cells": [
    {
      "id": "025dcab0-bb32-4431-9aac-68c0f06f6bc7",
      "cell_type": "code",
      "source": "",
      "metadata": {
        "trusted": true
      },
      "outputs": [],
      "execution_count": null
    },
    {
      "id": "98063ba1-9a1f-4f70-90ba-bed16cc6bd06",
      "cell_type": "code",
      "source": "list1=[x for x in range(1,11)]\nprint(list1)\nimport numpy as np\ndata1=np.array(list1)\nprint(data1)",
      "metadata": {
        "trusted": true
      },
      "outputs": [
        {
          "name": "stdout",
          "output_type": "stream",
          "text": "[1, 2, 3, 4, 5, 6, 7, 8, 9, 10]\n[ 1  2  3  4  5  6  7  8  9 10]\n"
        }
      ],
      "execution_count": 1
    },
    {
      "id": "1c2bafcb-3307-40c7-9f83-f4d2e6b34f74",
      "cell_type": "code",
      "source": "data2=np.linspace(0,1,20)\nprint(data2)",
      "metadata": {
        "trusted": true
      },
      "outputs": [
        {
          "name": "stdout",
          "output_type": "stream",
          "text": "[0.         0.05263158 0.10526316 0.15789474 0.21052632 0.26315789\n 0.31578947 0.36842105 0.42105263 0.47368421 0.52631579 0.57894737\n 0.63157895 0.68421053 0.73684211 0.78947368 0.84210526 0.89473684\n 0.94736842 1.        ]\n"
        }
      ],
      "execution_count": 2
    },
    {
      "id": "4b0623df-cdfd-4437-9e4f-61af47c66e49",
      "cell_type": "code",
      "source": "import numpy as np\ndata3=np.random.randint(1,100,10)\nprint(data3) \n",
      "metadata": {
        "trusted": true
      },
      "outputs": [
        {
          "name": "stdout",
          "output_type": "stream",
          "text": "[12 61 20 64 55  4 54 60 88 42]\n"
        }
      ],
      "execution_count": 7
    },
    {
      "id": "9e268598-20f1-4a90-b489-f3aa7c7db8cc",
      "cell_type": "code",
      "source": "import numpy as np\ndata1_2d=np.zeros((3,4))\nprint(data1_2d)",
      "metadata": {
        "trusted": true
      },
      "outputs": [
        {
          "name": "stdout",
          "output_type": "stream",
          "text": "[[0. 0. 0. 0.]\n [0. 0. 0. 0.]\n [0. 0. 0. 0.]]\n"
        }
      ],
      "execution_count": 10
    },
    {
      "id": "797710b3-f5cb-45d0-bfc4-dbcee7999420",
      "cell_type": "code",
      "source": "data2_2d=np.random.rand(5,5)\nprint(data2_2d)",
      "metadata": {
        "trusted": true
      },
      "outputs": [
        {
          "name": "stdout",
          "output_type": "stream",
          "text": "[[0.94755079 0.99767634 0.77692365 0.65656106 0.88316928]\n [0.17439097 0.26555891 0.3645512  0.40958818 0.48997455]\n [0.96716266 0.81424983 0.03014505 0.40035983 0.92845767]\n [0.98737245 0.78606136 0.50199968 0.39192354 0.21266559]\n [0.16741235 0.83313302 0.67157857 0.13613639 0.98245657]]\n"
        }
      ],
      "execution_count": 12
    },
    {
      "id": "f93c4a84-4c0f-4832-9e15-0494c65d9b4c",
      "cell_type": "code",
      "source": "import numpy as np\ndata3_2d=np.eye(2,2)\nprint(data3_2d)",
      "metadata": {
        "trusted": true
      },
      "outputs": [
        {
          "name": "stdout",
          "output_type": "stream",
          "text": "[[1. 0.]\n [0. 1.]]\n"
        }
      ],
      "execution_count": 20
    },
    {
      "id": "bfef9491-a22b-4766-80fe-ef157b932956",
      "cell_type": "code",
      "source": "import numpy as np\ndata1_3d=np.zeros((3,4,2))\nprint(data1_3d)",
      "metadata": {
        "trusted": true
      },
      "outputs": [
        {
          "name": "stdout",
          "output_type": "stream",
          "text": "[[[0. 0.]\n  [0. 0.]\n  [0. 0.]\n  [0. 0.]]\n\n [[0. 0.]\n  [0. 0.]\n  [0. 0.]\n  [0. 0.]]\n\n [[0. 0.]\n  [0. 0.]\n  [0. 0.]\n  [0. 0.]]]\n"
        }
      ],
      "execution_count": 22
    },
    {
      "id": "c709b208-8277-463f-8ce5-8ebaf57a9130",
      "cell_type": "code",
      "source": "data2_3d=np.random.randint(1,100,(2,3,3))\nprint(data2_3d)",
      "metadata": {
        "trusted": true
      },
      "outputs": [
        {
          "name": "stdout",
          "output_type": "stream",
          "text": "[[[43  1  8]\n  [21 78 36]\n  [ 5 83 95]]\n\n [[44 11 87]\n  [18 76 76]\n  [12  8 69]]]\n"
        }
      ],
      "execution_count": 23
    },
    {
      "id": "ac3407ba-7721-4dd2-a380-d3ed4686d2de",
      "cell_type": "code",
      "source": "data3_3d=np.arange(1,25).reshape(2,3,4)\nprint(data3_3d)\nmean=data3_3d.mean()\nprint(mean)\n",
      "metadata": {
        "trusted": true
      },
      "outputs": [
        {
          "name": "stdout",
          "output_type": "stream",
          "text": "[[[ 1  2  3  4]\n  [ 5  6  7  8]\n  [ 9 10 11 12]]\n\n [[13 14 15 16]\n  [17 18 19 20]\n  [21 22 23 24]]]\n12.5\n"
        }
      ],
      "execution_count": 32
    },
    {
      "id": "d4f8f516-c88e-4a62-882d-94683a3c48ff",
      "cell_type": "code",
      "source": "row_means=np.mean(data3_3d,axis=1)\nprint(row_means)",
      "metadata": {
        "trusted": true
      },
      "outputs": [
        {
          "name": "stdout",
          "output_type": "stream",
          "text": "[[ 5.  6.  7.  8.]\n [17. 18. 19. 20.]]\n"
        }
      ],
      "execution_count": 29
    },
    {
      "id": "40721673-a36b-4eb6-8a47-a6d7988ebdb7",
      "cell_type": "code",
      "source": "column_means=np.mean(data3_3d,axis=2)\nprint(column_means)",
      "metadata": {
        "trusted": true
      },
      "outputs": [
        {
          "name": "stdout",
          "output_type": "stream",
          "text": "[[ 2.5  6.5 10.5]\n [14.5 18.5 22.5]]\n"
        }
      ],
      "execution_count": 37
    },
    {
      "id": "51353556-fe7a-46e5-a3b7-a6af175d975e",
      "cell_type": "code",
      "source": "row=[]\nfor matrix in data3_3d:\n    for rows in matrix:\n        mean=rows.mean()\n        row.append(float(mean))\n\nprint(row)",
      "metadata": {
        "trusted": true
      },
      "outputs": [
        {
          "name": "stdout",
          "output_type": "stream",
          "text": "[2.5, 6.5, 10.5, 14.5, 18.5, 22.5]\n"
        }
      ],
      "execution_count": 39
    },
    {
      "id": "70c35387-5a64-4266-a1f6-4bd082335cd4",
      "cell_type": "code",
      "source": "",
      "metadata": {
        "trusted": true
      },
      "outputs": [],
      "execution_count": null
    }
  ]
}